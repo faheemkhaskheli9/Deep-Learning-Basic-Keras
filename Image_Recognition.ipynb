{
  "nbformat": 4,
  "nbformat_minor": 0,
  "metadata": {
    "kernelspec": {
      "name": "python3",
      "display_name": "Python 3"
    },
    "language_info": {
      "codemirror_mode": {
        "name": "ipython",
        "version": 3
      },
      "file_extension": ".py",
      "mimetype": "text/x-python",
      "name": "python",
      "nbconvert_exporter": "python",
      "pygments_lexer": "ipython3",
      "version": "3.7.3"
    },
    "colab": {
      "provenance": [],
      "include_colab_link": true
    },
    "accelerator": "GPU"
  },
  "cells": [
    {
      "cell_type": "markdown",
      "metadata": {
        "id": "view-in-github",
        "colab_type": "text"
      },
      "source": [
        "<a href=\"https://colab.research.google.com/github/faheemkhaskheli9/Deep-Learning-Basic-Keras/blob/main/Image_Recognition.ipynb\" target=\"_parent\"><img src=\"https://colab.research.google.com/assets/colab-badge.svg\" alt=\"Open In Colab\"/></a>"
      ]
    },
    {
      "cell_type": "code",
      "metadata": {
        "id": "GakOVBC2fX0n",
        "colab": {
          "base_uri": "https://localhost:8080/",
          "height": 125
        },
        "outputId": "7ea855b7-ed8d-457e-d39a-ff239fe28562"
      },
      "source": [
        "from google.colab import drive\n",
        "drive.mount(\"/content/drive\", force_remount=True)"
      ],
      "execution_count": null,
      "outputs": [
        {
          "output_type": "stream",
          "text": [
            "Go to this URL in a browser: https://accounts.google.com/o/oauth2/auth?client_id=947318989803-6bn6qk8qdgf4n4g3pfee6491hc0brc4i.apps.googleusercontent.com&redirect_uri=urn%3Aietf%3Awg%3Aoauth%3A2.0%3Aoob&scope=email%20https%3A%2F%2Fwww.googleapis.com%2Fauth%2Fdocs.test%20https%3A%2F%2Fwww.googleapis.com%2Fauth%2Fdrive%20https%3A%2F%2Fwww.googleapis.com%2Fauth%2Fdrive.photos.readonly%20https%3A%2F%2Fwww.googleapis.com%2Fauth%2Fpeopleapi.readonly&response_type=code\n",
            "\n",
            "Enter your authorization code:\n",
            "··········\n",
            "Mounted at /content/drive\n"
          ],
          "name": "stdout"
        }
      ]
    },
    {
      "cell_type": "code",
      "metadata": {
        "id": "tCwCxca8fVEN"
      },
      "source": [
        "import pickle\n",
        "import numpy as np\n",
        "import matplotlib.pyplot as plt"
      ],
      "execution_count": null,
      "outputs": []
    },
    {
      "cell_type": "code",
      "metadata": {
        "id": "b0RqAY9wfVES",
        "colab": {
          "base_uri": "https://localhost:8080/",
          "height": 34
        },
        "outputId": "b989a400-3751-42c4-bcb5-dcc434ff0cd3"
      },
      "source": [
        "from keras.models import Sequential\n",
        "from keras.layers import Convolution2D, AveragePooling2D, MaxPool2D, SpatialDropout2D\n",
        "from keras.layers import Dropout,Dense,Flatten\n",
        "from keras.utils import to_categorical"
      ],
      "execution_count": null,
      "outputs": [
        {
          "output_type": "stream",
          "text": [
            "Using TensorFlow backend.\n"
          ],
          "name": "stderr"
        }
      ]
    },
    {
      "cell_type": "code",
      "metadata": {
        "id": "50i65FY5fVEV",
        "colab": {
          "base_uri": "https://localhost:8080/",
          "height": 580
        },
        "outputId": "f0152fbc-d3cb-4df9-9538-c293939ca69a"
      },
      "source": [
        "import tensorflow as tf\n",
        "from tensorflow.python.client import device_lib\n",
        "print(device_lib.list_local_devices())\n",
        "print(tf.__version__)\n",
        "\n",
        "from tensorflow.compat.v1 import ConfigProto\n",
        "from tensorflow.compat.v1 import InteractiveSession\n",
        "\n",
        "config = tf.ConfigProto()\n",
        "config.gpu_options.allow_growth = True\n",
        "sess = tf.Session(config=config)"
      ],
      "execution_count": null,
      "outputs": [
        {
          "output_type": "stream",
          "text": [
            "[name: \"/device:CPU:0\"\n",
            "device_type: \"CPU\"\n",
            "memory_limit: 268435456\n",
            "locality {\n",
            "}\n",
            "incarnation: 7010998994140411257\n",
            ", name: \"/device:XLA_CPU:0\"\n",
            "device_type: \"XLA_CPU\"\n",
            "memory_limit: 17179869184\n",
            "locality {\n",
            "}\n",
            "incarnation: 3767918301304572821\n",
            "physical_device_desc: \"device: XLA_CPU device\"\n",
            ", name: \"/device:XLA_GPU:0\"\n",
            "device_type: \"XLA_GPU\"\n",
            "memory_limit: 17179869184\n",
            "locality {\n",
            "}\n",
            "incarnation: 14386032756834821239\n",
            "physical_device_desc: \"device: XLA_GPU device\"\n",
            ", name: \"/device:GPU:0\"\n",
            "device_type: \"GPU\"\n",
            "memory_limit: 11330115994\n",
            "locality {\n",
            "  bus_id: 1\n",
            "  links {\n",
            "  }\n",
            "}\n",
            "incarnation: 18136080406315909984\n",
            "physical_device_desc: \"device: 0, name: Tesla K80, pci bus id: 0000:00:04.0, compute capability: 3.7\"\n",
            "]\n",
            "1.14.0\n"
          ],
          "name": "stdout"
        }
      ]
    },
    {
      "cell_type": "code",
      "metadata": {
        "id": "36JKS6lqfq4W"
      },
      "source": [
        "\"/content/drive/My Drive/"
      ],
      "execution_count": null,
      "outputs": []
    },
    {
      "cell_type": "code",
      "metadata": {
        "id": "D6rDzU41fVEY"
      },
      "source": [
        "BASE_PATH = \"/content/drive/My Drive/object recognition/CIFAR/\""
      ],
      "execution_count": null,
      "outputs": []
    },
    {
      "cell_type": "code",
      "metadata": {
        "id": "A54d21lVfVEa"
      },
      "source": [
        "def unpickle(file):\n",
        "    import pickle\n",
        "    with open(file, 'rb') as fo:\n",
        "        dict = pickle.load(fo, encoding='bytes')\n",
        "    return dict"
      ],
      "execution_count": null,
      "outputs": []
    },
    {
      "cell_type": "code",
      "metadata": {
        "id": "eLn8YjWjfVEc"
      },
      "source": [
        "train = unpickle(BASE_PATH+\"train\")\n",
        "test = unpickle(BASE_PATH+\"test\")"
      ],
      "execution_count": null,
      "outputs": []
    },
    {
      "cell_type": "code",
      "metadata": {
        "id": "DEHOOxxkfVEe",
        "colab": {
          "base_uri": "https://localhost:8080/",
          "height": 193
        },
        "outputId": "ade127de-46a4-4629-e065-ac98a2b22234"
      },
      "source": [
        "for k in train:\n",
        "    print(k)\n",
        "for k in test:\n",
        "    print(k)"
      ],
      "execution_count": null,
      "outputs": [
        {
          "output_type": "stream",
          "text": [
            "b'filenames'\n",
            "b'batch_label'\n",
            "b'fine_labels'\n",
            "b'coarse_labels'\n",
            "b'data'\n",
            "b'filenames'\n",
            "b'batch_label'\n",
            "b'fine_labels'\n",
            "b'coarse_labels'\n",
            "b'data'\n"
          ],
          "name": "stdout"
        }
      ]
    },
    {
      "cell_type": "code",
      "metadata": {
        "id": "xkcmrRR3fVEg"
      },
      "source": [
        "train_data = train[b'data']\n",
        "test_data = test[b'data']"
      ],
      "execution_count": null,
      "outputs": []
    },
    {
      "cell_type": "code",
      "metadata": {
        "id": "nCzRUt_zfVEm"
      },
      "source": [
        "train_label = train[b'fine_labels']\n",
        "test_label = test[b'fine_labels']"
      ],
      "execution_count": null,
      "outputs": []
    },
    {
      "cell_type": "code",
      "metadata": {
        "id": "I8kFnu8jfVEp",
        "outputId": "9ccca9e2-5b4d-45ac-bb40-60f875fdc234"
      },
      "source": [
        "print(train_label[:10])"
      ],
      "execution_count": null,
      "outputs": [
        {
          "output_type": "stream",
          "text": [
            "[19, 29, 0, 11, 1, 86, 90, 28, 23, 31]\n"
          ],
          "name": "stdout"
        }
      ]
    },
    {
      "cell_type": "code",
      "metadata": {
        "id": "-KfMB5x4fVEr"
      },
      "source": [
        "def convert_CIFAR(data):\n",
        "    d = []\n",
        "    for i in data:\n",
        "        R = i[0:1024].reshape(32,32)/255.0\n",
        "        G = i[1024:2048].reshape(32,32)/255.0\n",
        "        B = i[2048:].reshape(32,32)/255.0\n",
        "\n",
        "        img = np.dstack((R,G,B))\n",
        "        d.append(img)\n",
        "    return d\n",
        "train_data = convert_CIFAR(train_data)\n",
        "test_data = convert_CIFAR(test_data)"
      ],
      "execution_count": null,
      "outputs": []
    },
    {
      "cell_type": "code",
      "metadata": {
        "id": "rmPt-bgNfVEt",
        "outputId": "9da764cd-8d1c-4889-993a-852acda8ba50"
      },
      "source": [
        "plt.imshow(train_data[0])\n",
        "plt.show()"
      ],
      "execution_count": null,
      "outputs": [
        {
          "output_type": "display_data",
          "data": {
            "image/png": "[encoded data removed]",
            "text/plain": [
              "<Figure size 432x288 with 1 Axes>"
            ]
          },
          "metadata": {
            "tags": [],
            "needs_background": "light"
          }
        }
      ]
    },
    {
      "cell_type": "code",
      "metadata": {
        "id": "qhzPlJrlfVEv",
        "outputId": "3291e799-769d-4a87-81cd-bc4fb294f6e8"
      },
      "source": [
        "def plot_CIFAR(ind):\n",
        "    arr = train_data[ind]\n",
        "    R = arr[0:1024].reshape(32,32)/255.0\n",
        "    G = arr[1024:2048].reshape(32,32)/255.0\n",
        "    B = arr[2048:].reshape(32,32)/255.0\n",
        "\n",
        "    img = np.dstack((R,G,B))\n",
        "    fig = plt.figure(figsize=(3,3))\n",
        "    ax = fig.add_subplot(111)\n",
        "    ax.imshow(img,interpolation='bicubic')\n",
        "    ax.set_title('Category = ',fontsize =15)\n",
        "\n",
        "plot_CIFAR(4)"
      ],
      "execution_count": null,
      "outputs": [
        {
          "output_type": "display_data",
          "data": {
            "image/png": "[encoded data removed]",
            "text/plain": [
              "<Figure size 216x216 with 1 Axes>"
            ]
          },
          "metadata": {
            "tags": [],
            "needs_background": "light"
          }
        }
      ]
    },
    {
      "cell_type": "code",
      "metadata": {
        "id": "QS-0b4aqfVE1"
      },
      "source": [
        "train_label = to_categorical(train_label)\n",
        "test_label = to_categorical(test_label)"
      ],
      "execution_count": null,
      "outputs": []
    },
    {
      "cell_type": "code",
      "metadata": {
        "id": "8r9G48pKhie6",
        "colab": {
          "base_uri": "https://localhost:8080/",
          "height": 34
        },
        "outputId": "f50b0a0b-f653-4b3c-a31b-f81f246ec646"
      },
      "source": [
        "print(np.min(np.array(train_data)))"
      ],
      "execution_count": null,
      "outputs": [
        {
          "output_type": "stream",
          "text": [
            "0.0\n"
          ],
          "name": "stdout"
        }
      ]
    },
    {
      "cell_type": "code",
      "metadata": {
        "id": "ZLvH3jyb1oJt"
      },
      "source": [
        "train_data  = np.array(train_data)\n",
        "train_label = np.array(train_label)\n",
        "test_data   = np.array(test_data)\n",
        "test_label  = np.array(test_label)"
      ],
      "execution_count": null,
      "outputs": []
    },
    {
      "cell_type": "code",
      "metadata": {
        "id": "tVxO7GLWfVEx"
      },
      "source": [
        "model = Sequential()\n",
        "model.add(Convolution2D(200,(10,10)))\n",
        "model.add(SpatialDropout2D(0.2))\n",
        "model.add(Flatten())\n",
        "model.add(Dense(300,activation = 'sigmoid'))\n",
        "model.add(Dense(100,activation = 'softmax'))\n",
        "\n",
        "from keras.optimizers import Adam\n",
        "\n",
        "model.compile(optimizer=Adam(0.0001, beta_1 = 0.1),loss='categorical_crossentropy',metrics=['acc'])"
      ],
      "execution_count": null,
      "outputs": []
    },
    {
      "cell_type": "code",
      "metadata": {
        "id": "yDrZfvdG1Vd1",
        "colab": {
          "base_uri": "https://localhost:8080/",
          "height": 34
        },
        "outputId": "b074200a-a9bf-495b-c38a-766a95797bac"
      },
      "source": [
        "import gc\n",
        "gc.collect()"
      ],
      "execution_count": null,
      "outputs": [
        {
          "output_type": "execute_result",
          "data": {
            "text/plain": [
              "201"
            ]
          },
          "metadata": {
            "tags": []
          },
          "execution_count": 58
        }
      ]
    },
    {
      "cell_type": "code",
      "metadata": {
        "id": "X44ubU6PfVE3",
        "colab": {
          "base_uri": "https://localhost:8080/",
          "height": 1000
        },
        "outputId": "f8cb1397-5b53-4117-9dcd-4001b9063d8e"
      },
      "source": [
        "model.fit(train_data, train_label, epochs= 100, verbose=1, batch_size=50, shuffle = True, validation_data=(test_data, test_label))"
      ],
      "execution_count": null,
      "outputs": [
        {
          "output_type": "stream",
          "text": [
            "Train on 50000 samples, validate on 10000 samples\n",
            "Epoch 1/100\n",
            "50000/50000 [==============================] - 64s 1ms/step - loss: 3.9913 - acc: 0.1162 - val_loss: 3.8382 - val_acc: 0.1450\n",
            "Epoch 2/100\n",
            "50000/50000 [==============================] - 62s 1ms/step - loss: 3.7018 - acc: 0.1657 - val_loss: 3.6968 - val_acc: 0.1645\n",
            "Epoch 3/100\n",
            "50000/50000 [==============================] - 62s 1ms/step - loss: 3.5878 - acc: 0.1839 - val_loss: 3.6133 - val_acc: 0.1804\n",
            "Epoch 4/100\n",
            "50000/50000 [==============================] - 62s 1ms/step - loss: 3.5018 - acc: 0.1990 - val_loss: 3.5605 - val_acc: 0.1850\n",
            "Epoch 5/100\n",
            "50000/50000 [==============================] - 62s 1ms/step - loss: 3.4300 - acc: 0.2127 - val_loss: 3.5141 - val_acc: 0.1943\n",
            "Epoch 6/100\n",
            "50000/50000 [==============================] - 62s 1ms/step - loss: 3.3739 - acc: 0.2217 - val_loss: 3.4809 - val_acc: 0.1999\n",
            "Epoch 7/100\n",
            "50000/50000 [==============================] - 62s 1ms/step - loss: 3.3229 - acc: 0.2322 - val_loss: 3.4450 - val_acc: 0.2041\n",
            "Epoch 8/100\n",
            "50000/50000 [==============================] - 62s 1ms/step - loss: 3.2777 - acc: 0.2385 - val_loss: 3.4268 - val_acc: 0.2050\n",
            "Epoch 9/100\n",
            "50000/50000 [==============================] - 62s 1ms/step - loss: 3.2359 - acc: 0.2467 - val_loss: 3.4123 - val_acc: 0.2055\n",
            "Epoch 10/100\n",
            "50000/50000 [==============================] - 62s 1ms/step - loss: 3.1976 - acc: 0.2530 - val_loss: 3.4085 - val_acc: 0.2106\n",
            "Epoch 11/100\n",
            "50000/50000 [==============================] - 62s 1ms/step - loss: 3.1596 - acc: 0.2608 - val_loss: 3.3800 - val_acc: 0.2131\n",
            "Epoch 12/100\n",
            "50000/50000 [==============================] - 62s 1ms/step - loss: 3.1234 - acc: 0.2685 - val_loss: 3.3715 - val_acc: 0.2142\n",
            "Epoch 13/100\n",
            "50000/50000 [==============================] - 62s 1ms/step - loss: 3.0915 - acc: 0.2736 - val_loss: 3.3642 - val_acc: 0.2200\n",
            "Epoch 14/100\n",
            "50000/50000 [==============================] - 62s 1ms/step - loss: 3.0567 - acc: 0.2807 - val_loss: 3.3443 - val_acc: 0.2211\n",
            "Epoch 15/100\n",
            "50000/50000 [==============================] - 62s 1ms/step - loss: 3.0289 - acc: 0.2866 - val_loss: 3.3668 - val_acc: 0.2189\n",
            "Epoch 16/100\n",
            "50000/50000 [==============================] - 63s 1ms/step - loss: 2.9992 - acc: 0.2921 - val_loss: 3.3245 - val_acc: 0.2240\n",
            "Epoch 17/100\n",
            "50000/50000 [==============================] - 62s 1ms/step - loss: 2.9675 - acc: 0.2995 - val_loss: 3.3301 - val_acc: 0.2279\n",
            "Epoch 18/100\n",
            "50000/50000 [==============================] - 62s 1ms/step - loss: 2.9392 - acc: 0.3057 - val_loss: 3.3346 - val_acc: 0.2201\n",
            "Epoch 19/100\n",
            "50000/50000 [==============================] - 62s 1ms/step - loss: 2.9100 - acc: 0.3102 - val_loss: 3.3130 - val_acc: 0.2242\n",
            "Epoch 20/100\n",
            "50000/50000 [==============================] - 62s 1ms/step - loss: 2.8863 - acc: 0.3146 - val_loss: 3.3041 - val_acc: 0.2262\n",
            "Epoch 21/100\n",
            "50000/50000 [==============================] - 62s 1ms/step - loss: 2.8538 - acc: 0.3227 - val_loss: 3.3108 - val_acc: 0.2263\n",
            "Epoch 22/100\n",
            "50000/50000 [==============================] - 62s 1ms/step - loss: 2.8309 - acc: 0.3276 - val_loss: 3.3060 - val_acc: 0.2290\n",
            "Epoch 23/100\n",
            "50000/50000 [==============================] - 62s 1ms/step - loss: 2.8008 - acc: 0.3346 - val_loss: 3.3586 - val_acc: 0.2150\n",
            "Epoch 24/100\n",
            "50000/50000 [==============================] - 62s 1ms/step - loss: 2.7789 - acc: 0.3400 - val_loss: 3.2904 - val_acc: 0.2296\n",
            "Epoch 25/100\n",
            "50000/50000 [==============================] - 62s 1ms/step - loss: 2.7513 - acc: 0.3465 - val_loss: 3.2903 - val_acc: 0.2310\n",
            "Epoch 26/100\n",
            "50000/50000 [==============================] - 62s 1ms/step - loss: 2.7249 - acc: 0.3505 - val_loss: 3.2841 - val_acc: 0.2335\n",
            "Epoch 27/100\n",
            "50000/50000 [==============================] - 62s 1ms/step - loss: 2.7026 - acc: 0.3538 - val_loss: 3.2872 - val_acc: 0.2271\n",
            "Epoch 28/100\n",
            "50000/50000 [==============================] - 62s 1ms/step - loss: 2.6747 - acc: 0.3610 - val_loss: 3.2770 - val_acc: 0.2336\n",
            "Epoch 29/100\n",
            "50000/50000 [==============================] - 62s 1ms/step - loss: 2.6535 - acc: 0.3660 - val_loss: 3.2919 - val_acc: 0.2305\n",
            "Epoch 30/100\n",
            "50000/50000 [==============================] - 62s 1ms/step - loss: 2.6282 - acc: 0.3721 - val_loss: 3.2837 - val_acc: 0.2323\n",
            "Epoch 31/100\n",
            "50000/50000 [==============================] - 62s 1ms/step - loss: 2.6075 - acc: 0.3770 - val_loss: 3.2860 - val_acc: 0.2331\n",
            "Epoch 32/100\n",
            "50000/50000 [==============================] - 62s 1ms/step - loss: 2.5835 - acc: 0.3823 - val_loss: 3.2905 - val_acc: 0.2300\n",
            "Epoch 33/100\n",
            "50000/50000 [==============================] - 62s 1ms/step - loss: 2.5591 - acc: 0.3879 - val_loss: 3.2791 - val_acc: 0.2334\n",
            "Epoch 34/100\n",
            "50000/50000 [==============================] - 62s 1ms/step - loss: 2.5339 - acc: 0.3937 - val_loss: 3.2887 - val_acc: 0.2328\n",
            "Epoch 35/100\n",
            "50000/50000 [==============================] - 62s 1ms/step - loss: 2.5119 - acc: 0.3993 - val_loss: 3.2961 - val_acc: 0.2292\n",
            "Epoch 36/100\n",
            "50000/50000 [==============================] - 62s 1ms/step - loss: 2.4889 - acc: 0.4035 - val_loss: 3.2907 - val_acc: 0.2325\n",
            "Epoch 37/100\n",
            "50000/50000 [==============================] - 62s 1ms/step - loss: 2.4652 - acc: 0.4111 - val_loss: 3.3171 - val_acc: 0.2292\n",
            "Epoch 38/100\n",
            "50000/50000 [==============================] - 62s 1ms/step - loss: 2.4446 - acc: 0.4167 - val_loss: 3.3233 - val_acc: 0.2287\n",
            "Epoch 39/100\n",
            "50000/50000 [==============================] - 62s 1ms/step - loss: 2.4223 - acc: 0.4215 - val_loss: 3.2919 - val_acc: 0.2352\n",
            "Epoch 40/100\n",
            "50000/50000 [==============================] - 62s 1ms/step - loss: 2.3997 - acc: 0.4264 - val_loss: 3.3021 - val_acc: 0.2333\n",
            "Epoch 41/100\n",
            "50000/50000 [==============================] - 62s 1ms/step - loss: 2.3766 - acc: 0.4320 - val_loss: 3.3063 - val_acc: 0.2301\n",
            "Epoch 42/100\n",
            "50000/50000 [==============================] - 62s 1ms/step - loss: 2.3548 - acc: 0.4374 - val_loss: 3.3003 - val_acc: 0.2348\n",
            "Epoch 43/100\n",
            "50000/50000 [==============================] - 62s 1ms/step - loss: 2.3345 - acc: 0.4418 - val_loss: 3.3151 - val_acc: 0.2340\n",
            "Epoch 44/100\n",
            "50000/50000 [==============================] - 62s 1ms/step - loss: 2.3116 - acc: 0.4471 - val_loss: 3.3213 - val_acc: 0.2309\n",
            "Epoch 45/100\n",
            "50000/50000 [==============================] - 62s 1ms/step - loss: 2.2927 - acc: 0.4521 - val_loss: 3.3230 - val_acc: 0.2296\n",
            "Epoch 46/100\n",
            "50000/50000 [==============================] - 62s 1ms/step - loss: 2.2702 - acc: 0.4553 - val_loss: 3.3139 - val_acc: 0.2315\n",
            "Epoch 47/100\n",
            "50000/50000 [==============================] - 62s 1ms/step - loss: 2.2500 - acc: 0.4640 - val_loss: 3.3339 - val_acc: 0.2300\n",
            "Epoch 48/100\n",
            "50000/50000 [==============================] - 62s 1ms/step - loss: 2.2293 - acc: 0.4671 - val_loss: 3.3335 - val_acc: 0.2327\n",
            "Epoch 49/100\n",
            "50000/50000 [==============================] - 62s 1ms/step - loss: 2.2098 - acc: 0.4707 - val_loss: 3.3172 - val_acc: 0.2376\n",
            "Epoch 50/100\n",
            "50000/50000 [==============================] - 62s 1ms/step - loss: 2.1844 - acc: 0.4772 - val_loss: 3.3432 - val_acc: 0.2290\n",
            "Epoch 51/100\n",
            "50000/50000 [==============================] - 62s 1ms/step - loss: 2.1684 - acc: 0.4813 - val_loss: 3.3306 - val_acc: 0.2327\n",
            "Epoch 52/100\n",
            "50000/50000 [==============================] - 62s 1ms/step - loss: 2.1463 - acc: 0.4879 - val_loss: 3.3265 - val_acc: 0.2349\n",
            "Epoch 53/100\n",
            "50000/50000 [==============================] - 62s 1ms/step - loss: 2.1269 - acc: 0.4945 - val_loss: 3.3343 - val_acc: 0.2331\n",
            "Epoch 54/100\n",
            "50000/50000 [==============================] - 62s 1ms/step - loss: 2.1096 - acc: 0.4964 - val_loss: 3.3489 - val_acc: 0.2337\n",
            "Epoch 55/100\n",
            "50000/50000 [==============================] - 62s 1ms/step - loss: 2.0868 - acc: 0.5032 - val_loss: 3.3373 - val_acc: 0.2313\n",
            "Epoch 56/100\n",
            "50000/50000 [==============================] - 62s 1ms/step - loss: 2.0701 - acc: 0.5055 - val_loss: 3.3566 - val_acc: 0.2297\n",
            "Epoch 57/100\n",
            "50000/50000 [==============================] - 62s 1ms/step - loss: 2.0477 - acc: 0.5111 - val_loss: 3.3442 - val_acc: 0.2308\n",
            "Epoch 58/100\n",
            "50000/50000 [==============================] - 62s 1ms/step - loss: 2.0279 - acc: 0.5184 - val_loss: 3.3469 - val_acc: 0.2332\n",
            "Epoch 59/100\n",
            "39450/50000 [======================>.......] - ETA: 12s - loss: 1.9997 - acc: 0.5239Buffered data was truncated after reaching the output size limit."
          ],
          "name": "stdout"
        }
      ]
    },
    {
      "cell_type": "code",
      "metadata": {
        "id": "y5A43kqlfVE6"
      },
      "source": [],
      "execution_count": null,
      "outputs": []
    }
  ]
}